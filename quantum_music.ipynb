{
 "cells": [
  {
   "cell_type": "code",
   "execution_count": null,
   "metadata": {},
   "outputs": [],
   "source": [
    "import numpy as np\n",
    "from mido import MidiFile\n",
    "from pyqubo import Array, Constraint, Placeholder\n",
    "from openjij import SQASampler\n",
    "import pygame"
   ]
  },
  {
   "cell_type": "markdown",
   "metadata": {},
   "source": [
    "以下の３つを変更"
   ]
  },
  {
   "cell_type": "code",
   "execution_count": null,
   "metadata": {},
   "outputs": [],
   "source": [
    "title = 'canon' # 曲名(classicフォルダの中にあるもの)"
   ]
  },
  {
   "cell_type": "code",
   "execution_count": 3,
   "metadata": {},
   "outputs": [],
   "source": [
    "n = 20 # 何個の音符を作成するか"
   ]
  },
  {
   "cell_type": "code",
   "execution_count": 4,
   "metadata": {},
   "outputs": [],
   "source": [
    "track_num = 1 # エラーが出たら0に変更"
   ]
  },
  {
   "cell_type": "markdown",
   "metadata": {},
   "source": [
    "データの前処理"
   ]
  },
  {
   "cell_type": "code",
   "execution_count": 5,
   "metadata": {},
   "outputs": [],
   "source": [
    "path = f'classic/{title}.mid'\n",
    "midi = MidiFile(path)\n",
    "\n",
    "index = []\n",
    "index_fin = []\n",
    "ori_melody = []\n",
    "ori_melody_fin = []\n",
    "for i, msg in enumerate(midi.tracks[track_num]):\n",
    "    if msg.type == 'note_on':\n",
    "        if msg.velocity > 0:\n",
    "            index.append(i)\n",
    "            ori_melody.append(msg.note)\n",
    "        if msg.velocity == 0:\n",
    "            index_fin.append(i)\n",
    "            ori_melody_fin.append(msg.note)\n",
    "\n",
    "ori_melody = np.array(ori_melody)\n",
    "ori_melody_fin = np.array(ori_melody_fin)\n",
    "\n",
    "note_all = np.unique(ori_melody)\n",
    "count1 = {}\n",
    "for i in note_all:\n",
    "    count1[i] = 0\n",
    "\n",
    "fin_list = []\n",
    "count2 = {}\n",
    "\n",
    "for value1 in ori_melody:\n",
    "    for i in note_all:\n",
    "        count2[i] = 0\n",
    "    for j, value2 in zip(index_fin, ori_melody_fin):\n",
    "        if value1 == value2:\n",
    "            if count1[value2] == count2[value2]:\n",
    "                fin_list.append(j)\n",
    "                count1[value2] += 1\n",
    "                break\n",
    "            else:\n",
    "                count2[value2] += 1\n",
    "\n",
    "index_fin = fin_list"
   ]
  },
  {
   "cell_type": "code",
   "execution_count": 6,
   "metadata": {},
   "outputs": [],
   "source": [
    "len_pitch = 12\n",
    "\n",
    "rem = ori_melody % len_pitch\n",
    "fin = rem[len(rem) - 1]\n",
    "dic = {}\n",
    "for num, note in enumerate(range(len_pitch)):\n",
    "    indices = np.array([i for i, x in enumerate(rem) if x == note])\n",
    "    if indices.size == 0:\n",
    "        indices = False\n",
    "    else:\n",
    "        if note != fin:\n",
    "            indices = indices + 1\n",
    "        if note == fin:\n",
    "            indices = indices[:-1] + 1\n",
    "    dic[note] = rem[indices]\n",
    "\n",
    "W = np.zeros(len_pitch**2).reshape(len_pitch, len_pitch)\n",
    "\n",
    "for i in range(len_pitch):\n",
    "    for j in range(len_pitch):\n",
    "        W[i, j] = np.sum(dic[i] == j)\n",
    "\n",
    "for i in range(len_pitch):\n",
    "    if np.sum(W, axis=1)[i] == 0:\n",
    "        continue\n",
    "    else:\n",
    "        W[i,:] = W[i, :] / np.sum(W, axis=1)[i]"
   ]
  },
  {
   "cell_type": "markdown",
   "metadata": {},
   "source": [
    "量子アニーリングの実行"
   ]
  },
  {
   "cell_type": "code",
   "execution_count": null,
   "metadata": {},
   "outputs": [],
   "source": [
    "x = Array.create('x', shape=(n, len_pitch), vartype='BINARY')\n",
    "\n",
    "P = [i for i in range(len_pitch)]\n",
    "\n",
    "c1 = np.sum([((1 - np.sum([x[i,j] for j in P])) ** 2) for i in range(n)])\n",
    "o1 = -1*np.sum([np.sum([np.sum([(W[j1,j2]*x[i,j1]*x[i+1,j2]) for j2 in P]) for j1 in P]) for i in range(n-1)])\n",
    "o2 = np.sum([((np.sum([(j * x[i,j]) for j in P]) - np.sum([(j * x[i+1,j]) for j in P])) ** 2) for i in range(n-1)])\n",
    "\n",
    "H = Placeholder(\"lam1\") * Constraint(c1, \"c1\") + Placeholder(\"lam2\") * o1 + Placeholder(\"lam3\") * o2\n",
    "\n",
    "feed_dict = {'lam1': 15.0, 'lam2': 15.0, 'lam3': 0.5}\n",
    "\n",
    "model = H.compile()\n",
    "qubo, offset = model.to_qubo(feed_dict=feed_dict)\n",
    "sampler = SQASampler()\n",
    "sampleset = sampler.sample_qubo(qubo, num_reads=2000)\n",
    "decoded_sample = model.decode_sampleset(sampleset, feed_dict)\n",
    "if decoded_sample[0].constraints(only_broken=True):\n",
    "        print(\"制約を破っています\")\n",
    "        print(decoded_sample[0].constraints(only_broken=True))"
   ]
  },
  {
   "cell_type": "markdown",
   "metadata": {},
   "source": [
    "結果の表示"
   ]
  },
  {
   "cell_type": "code",
   "execution_count": null,
   "metadata": {},
   "outputs": [],
   "source": [
    "create = []\n",
    "for i in range(n):\n",
    "    for j in range(len_pitch):\n",
    "        if sampleset.first.sample['x[{}][{}]'.format(i, j)] == 1:\n",
    "            create.append(j)\n",
    "            \n",
    "onkai = {0:'ド', 1:'ド#', 2:'レ', 3:'レ#', 4:'ミ', 5:'ファ', 6:'ファ#', 7:'ソ', 8:'ソ#', 9:'ラ', 10:'ラ#', 11:'シ'}\n",
    "kekka_oto = []\n",
    "for i in range(n):\n",
    "    for j in range(len_pitch):\n",
    "        if sampleset.first.sample['x[{}][{}]'.format(i, j)] == 1:\n",
    "            kekka_oto.append(onkai[j])\n",
    "print(kekka_oto)"
   ]
  },
  {
   "cell_type": "markdown",
   "metadata": {},
   "source": [
    "音楽再生の準備"
   ]
  },
  {
   "cell_type": "code",
   "execution_count": 9,
   "metadata": {},
   "outputs": [],
   "source": [
    "seq = []\n",
    "\n",
    "for i in range(n):\n",
    "    kari = []\n",
    "    for j in P:\n",
    "        if decoded_sample[0].array('x', (i, j)) == 1:\n",
    "            kari.append(j)\n",
    "    if len(kari) == 1:\n",
    "        seq += kari\n",
    "    elif len(kari) > 0:\n",
    "        if len(seq) == 0:\n",
    "            seq.append(kari[0])\n",
    "        else:\n",
    "            diff = [abs(x - seq[-1]) for x in kari]\n",
    "            min_diff = min(diff)\n",
    "            result = [x for x in kari if abs(x - seq[-1]) == min_diff]\n",
    "            seq.append(result[0])\n",
    "    elif len(kari) == 0:\n",
    "        if len(seq) == 0:\n",
    "            unique, counts = np.unique(rem, return_counts=True)\n",
    "            first = np.random.choice(unique, p=counts/sum(counts))\n",
    "            seq.append(first)\n",
    "        else:\n",
    "            seq.append(seq[-1])"
   ]
  },
  {
   "cell_type": "code",
   "execution_count": 10,
   "metadata": {},
   "outputs": [],
   "source": [
    "n = len(ori_melody) - len(seq)\n",
    "num_rep = 1\n",
    "\n",
    "rep = len(ori_melody) // n\n",
    "new_sequence = []\n",
    "seq_dict = {}\n",
    "\n",
    "for i in range(rep//num_rep):\n",
    "\n",
    "    unique, counts = np.unique(rem, return_counts=True)\n",
    "    first = np.random.choice(unique, p=counts/sum(counts))\n",
    "\n",
    "    elements = np.arange(len_pitch)\n",
    "    sequence = [first]\n",
    "\n",
    "    for _ in range(n - 1):\n",
    "        probabilities = W[first, :]\n",
    "        next_element = np.random.choice(elements, p=probabilities)\n",
    "        sequence.append(next_element)\n",
    "        first = next_element\n",
    "\n",
    "    sequence = np.array(sequence)\n",
    "    seq_dict[i] = list(sequence + 12 * (ori_melody[0+i*n:n+i*n] // len_pitch))\n",
    "\n",
    "for _ in range(num_rep):\n",
    "    for i in range(rep//num_rep):\n",
    "        new_sequence += seq_dict[i]\n",
    "\n",
    "first = np.random.choice(unique, p=counts/sum(counts))\n",
    "sequence = [first]\n",
    "num_lack = len(ori_melody) - len(new_sequence)\n",
    "\n",
    "for _ in range((num_lack) - 1):\n",
    "    next_element = np.random.choice(elements, p=probabilities)\n",
    "    sequence.append(next_element)\n",
    "    first = next_element\n",
    "\n",
    "sequence = np.array(sequence)\n",
    "new_melody = new_sequence + list(sequence + 12 * (ori_melody[-num_lack:] // len_pitch))"
   ]
  },
  {
   "cell_type": "code",
   "execution_count": 11,
   "metadata": {},
   "outputs": [],
   "source": [
    "melody_dict = {}\n",
    "for i, note in zip(index, new_melody):\n",
    "    melody_dict[i] = note\n",
    "\n",
    "melody_dict_fin = {}\n",
    "for i, note in zip(index_fin, new_melody):\n",
    "    melody_dict_fin[i] = note\n",
    "\n",
    "for i, msg in enumerate(midi.tracks[track_num]):\n",
    "    if msg.type == 'note_on':\n",
    "        if msg.velocity > 0:\n",
    "            msg.note = melody_dict[i]\n",
    "        if msg.velocity == 0:\n",
    "            msg.note = melody_dict_fin[i]"
   ]
  },
  {
   "cell_type": "code",
   "execution_count": 12,
   "metadata": {},
   "outputs": [],
   "source": [
    "np_ind = np.array(index)\n",
    "ind = np_ind[(ori_melody / len_pitch) >= 6.0]\n",
    "\n",
    "new_midi = MidiFile()\n",
    "new_midi.type = midi.type\n",
    "new_midi.ticks_per_beat = midi.ticks_per_beat\n",
    "new_midi.tracks = midi.tracks\n",
    "\n",
    "for i, msg in enumerate(new_midi.tracks[track_num]):\n",
    "    if i in ind:\n",
    "        msg.velocity = 0"
   ]
  },
  {
   "cell_type": "markdown",
   "metadata": {},
   "source": [
    "音楽再生"
   ]
  },
  {
   "cell_type": "code",
   "execution_count": null,
   "metadata": {},
   "outputs": [],
   "source": [
    "path = 'output.mid'\n",
    "new_midi.save(path)\n",
    "pygame.init()\n",
    "pygame.mixer.init()\n",
    "pygame.mixer.music.load(path)\n",
    "pygame.mixer.music.play()\n",
    "while pygame.mixer.music.get_busy():\n",
    "    pygame.time.Clock().tick(10)"
   ]
  }
 ],
 "metadata": {
  "kernelspec": {
   "display_name": "Python 3",
   "language": "python",
   "name": "python3"
  },
  "language_info": {
   "codemirror_mode": {
    "name": "ipython",
    "version": 3
   },
   "file_extension": ".py",
   "mimetype": "text/x-python",
   "name": "python",
   "nbconvert_exporter": "python",
   "pygments_lexer": "ipython3",
   "version": "3.11.8"
  }
 },
 "nbformat": 4,
 "nbformat_minor": 2
}
